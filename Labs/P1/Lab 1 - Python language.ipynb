{
 "cells": [
  {
   "cell_type": "markdown",
   "metadata": {},
   "source": [
    "<table style=\"background-color:#F5F5F5;\" width=\"100%\">\n",
    "<tr><td style=\"background-color:#F5F5F5;\"><img src=\"../images/logo.png\" width=\"100\" align='right'/></td></tr>     <tr><td>\n",
    "            <h1><center>Aplicações Avançadas de Instrumentação MIEF/MIEB</center></h1>\n",
    "            <h3><center>1st Semester - 2021/2022</center></h3>\n",
    "            <h4><center>Universidade Nova de Lisboa - Faculdade de Ciências e Tecnologia</center></h4>\n",
    "</td></tr>\n",
    "    <tr><td><h1><center>Lab 1 - Python language </center></h1></td></tr>\n",
    "</table>"
   ]
  },
  {
   "cell_type": "markdown",
   "metadata": {},
   "source": [
    "# 1. `print()` function"
   ]
  },
  {
   "cell_type": "markdown",
   "metadata": {},
   "source": [
    "__Step 1__: print Hello, World! "
   ]
  },
  {
   "cell_type": "code",
   "execution_count": 4,
   "metadata": {
    "scrolled": true
   },
   "outputs": [
    {
     "name": "stdout",
     "output_type": "stream",
     "text": [
      "Hello, World!\n"
     ]
    }
   ],
   "source": [
    "print('Hello, World!')"
   ]
  },
  {
   "cell_type": "markdown",
   "metadata": {},
   "source": [
    "__Step 2__: print the result of a mathematical operation"
   ]
  },
  {
   "cell_type": "code",
   "execution_count": 5,
   "metadata": {},
   "outputs": [
    {
     "name": "stdout",
     "output_type": "stream",
     "text": [
      "9\n"
     ]
    }
   ],
   "source": [
    "print(4+5)"
   ]
  },
  {
   "cell_type": "markdown",
   "metadata": {},
   "source": [
    "__Step 3__: print multiple argumments inside the `print()` function using strings and numerical values"
   ]
  },
  {
   "cell_type": "markdown",
   "metadata": {},
   "source": [
    "`print(x1,x2,x3)` multiple arguments separated by a comma are concatenated after being convert to a string"
   ]
  },
  {
   "cell_type": "code",
   "execution_count": 6,
   "metadata": {
    "scrolled": true
   },
   "outputs": [
    {
     "name": "stdout",
     "output_type": "stream",
     "text": [
      "9 a\n"
     ]
    }
   ],
   "source": [
    "print(9, 'a')"
   ]
  },
  {
   "cell_type": "markdown",
   "metadata": {},
   "source": [
    "Escape characters such as \"\\n\", which represents a change of line in the string, can be used within the `print()` function"
   ]
  },
  {
   "cell_type": "code",
   "execution_count": 4,
   "metadata": {},
   "outputs": [
    {
     "name": "stdout",
     "output_type": "stream",
     "text": [
      "Hello \n",
      " Duarte\n"
     ]
    }
   ],
   "source": [
    "print(\"Hello \\n Duarte\")"
   ]
  },
  {
   "cell_type": "markdown",
   "metadata": {},
   "source": [
    "# 2. Python Operators\n",
    "\n",
    "### 2.1. Arithmetic Operators\n",
    "\n",
    "1. Addition `+` adds two values on either side of the operator;\n",
    "2. Subtraction `-` subtracts the righ hand operand from the left hand operand;\n",
    "3. Multiplication `*` multiplies values on either side of the operator;\n",
    "4. Division `/` divides left hand operand by right hand operand;\n",
    "5. Modulus `%` divides left hand operand by right hand operand and returns remainder;\n",
    "6. Floor division `//` division of operands where the result is the quotient in which the digits after the decimal point are removed.\n",
    "7. Exponent `**` performs the exponential (power) calculation on operators."
   ]
  },
  {
   "cell_type": "code",
   "execution_count": 7,
   "metadata": {},
   "outputs": [
    {
     "name": "stdout",
     "output_type": "stream",
     "text": [
      "8\n",
      "-2\n",
      "15\n",
      "0.6\n",
      "3\n",
      "1\n",
      "243\n"
     ]
    }
   ],
   "source": [
    "print(3+5)    # plus operator \n",
    "print(3-5)    # minus operator\n",
    "print(3*5)    # multiplication operator\n",
    "print(3/5)    # division operator\n",
    "print(3%5)    # modulus operator\n",
    "print(10//8)   # floor operator\n",
    "print(3**5)   # the exponent operator"
   ]
  },
  {
   "cell_type": "markdown",
   "metadata": {},
   "source": [
    "### 2.2. Comparison Operators\n",
    "\n",
    "\n",
    "1. `==` returns true if the values of two operands are equal;\t\n",
    "2. `!=` returns true if the values of two operands are not equal;\n",
    "3. `<` returns true if the value of left operand is less than the value of right operand;\n",
    "4. '`>` returns true if the value of left operand is greater than the value of right operand;\n",
    "5. `<=` returns true if the value of left operand is less or equal than the value of right operand;\n",
    "6. `>=` returns true if the value of left operand is greater or equal than the value of right operand;"
   ]
  },
  {
   "cell_type": "code",
   "execution_count": 6,
   "metadata": {},
   "outputs": [
    {
     "name": "stdout",
     "output_type": "stream",
     "text": [
      "False\n",
      "True\n",
      "False\n",
      "True\n",
      "True\n",
      "False\n"
     ]
    }
   ],
   "source": [
    "print(3==5)\n",
    "print(3!=5)\n",
    "print(3>5)\n",
    "print(3<5)\n",
    "print(3<=5)\n",
    "print(3>=5)"
   ]
  },
  {
   "cell_type": "markdown",
   "metadata": {},
   "source": [
    "### 2.3. Assignment Operators\n",
    "\n",
    "1. `=` assigns values from right side operands to left side operand;\n",
    "2. `+=` adds right operand to the left operand and assign the result to left operand;\n",
    "3. `-=` subtracts right operand to the left operand and assign the result to left operand;\n",
    "4. `*=` multiplies the right operand with the left operand and assign the result to left operand;\t\n",
    "5. `/=` divides the left operand with the right operand and assign the result to left operand;\t\n",
    "6. '`%=` takes modulus using two operands and assign the result to left operand;\t\n",
    "7. `**=` performs exponential (power) calculation on operators and assign value to the left operand;\t\n",
    "8. `//=` performs floor division on operators and assign value to the left operand;"
   ]
  },
  {
   "cell_type": "code",
   "execution_count": 4,
   "metadata": {},
   "outputs": [
    {
     "name": "stdout",
     "output_type": "stream",
     "text": [
      "3\n",
      "6\n",
      "3\n",
      "9\n",
      "3.0\n",
      "27.0\n",
      "9.0\n",
      "0.0\n"
     ]
    }
   ],
   "source": [
    "a = 3\n",
    "print(a)\n",
    "\n",
    "a += 3\n",
    "print(a)\n",
    "\n",
    "a -= 3\n",
    "print(a)\n",
    "\n",
    "a *= 3\n",
    "print(a)\n",
    "\n",
    "a /= 3\n",
    "print(a)\n",
    "\n",
    "a **= 3\n",
    "print(a)\n",
    "\n",
    "a //= 3\n",
    "print(a)\n",
    "\n",
    "a %= 3\n",
    "print(a)"
   ]
  },
  {
   "cell_type": "markdown",
   "metadata": {},
   "source": [
    "# 3. Variables"
   ]
  },
  {
   "cell_type": "markdown",
   "metadata": {},
   "source": [
    "Variables are reserved memory locations that store values. This means that when you create a variable you reserve some space in memory. Python has no command for declaring a variable, instead a variable is created the moment you first assign a value to it."
   ]
  },
  {
   "cell_type": "markdown",
   "metadata": {},
   "source": [
    "There are three __numeric types__ in Python:\n",
    "\n",
    "1. int\n",
    "2. float\n",
    "3. complex"
   ]
  },
  {
   "cell_type": "code",
   "execution_count": 8,
   "metadata": {},
   "outputs": [
    {
     "name": "stdout",
     "output_type": "stream",
     "text": [
      "<class 'int'>\n",
      "<class 'float'>\n",
      "<class 'complex'>\n"
     ]
    }
   ],
   "source": [
    "x = 3    # int\n",
    "y = 3.5  # float\n",
    "z = 3j   # complex\n",
    "print(type(x))\n",
    "print(type(y))\n",
    "print(type(z))"
   ]
  },
  {
   "cell_type": "markdown",
   "metadata": {},
   "source": [
    "Conversion between different types."
   ]
  },
  {
   "cell_type": "code",
   "execution_count": 10,
   "metadata": {},
   "outputs": [
    {
     "name": "stdout",
     "output_type": "stream",
     "text": [
      "<class 'str'>\n",
      "<class 'float'>\n"
     ]
    }
   ],
   "source": [
    "x = \"3.55\"\n",
    "y = 3.55\n",
    "print(type(x))\n",
    "print(type(float(x)))"
   ]
  },
  {
   "cell_type": "markdown",
   "metadata": {},
   "source": [
    "A __String__ is a variable that conists in an array of characters."
   ]
  },
  {
   "cell_type": "code",
   "execution_count": 11,
   "metadata": {},
   "outputs": [
    {
     "name": "stdout",
     "output_type": "stream",
     "text": [
      " Hello, Wor,ld! \n",
      "H\n",
      "ell\n",
      "el,W\n",
      " hello, wor,ld! \n",
      " HELLO, WOR,LD! \n",
      "16\n",
      "Hello, Wor,ld!\n",
      " Jello, Wor,ld! \n",
      "[' Hello', ' Wor', 'ld! ']\n"
     ]
    }
   ],
   "source": [
    "s = \" Hello, Wor,ld! \";\n",
    "\n",
    "print(s)\n",
    "print(s[1])               # prints the second character\n",
    "print(s[2:5])             # slice characters 3 to 5 from string s\n",
    "print(s[2:10:2])          # slice characters 3 to 10 from string s in steps of 2\n",
    "print(s.lower())          # lower cases the entire string\n",
    "print(s.upper())          # upper cases the entire string\n",
    "print(len(s))             # prints the number of characters (the length) in the string\n",
    "print(s.strip())          # removes white spaces at begining and end of string\n",
    "print(s.replace('H','J')) # replace all 'H' characters by \"J\"\n",
    "print(s.split(','))       # splits all strings using \",\" as a separator into a list"
   ]
  },
  {
   "cell_type": "markdown",
   "metadata": {},
   "source": [
    "# 4. Collection data types\n",
    "\n",
    "1. <b>List</b> is a collection which is ordered and changeable. Allows duplicate members.\n",
    "2. <b>Tuple</b> is a collection which is ordered and unchangeable. Allows duplicate members.\n",
    "3. <b>Set</b> is a collection which is unordered and unchangeable. No duplicate members.\n",
    "4. <b>Dictionary</b> is a collection which is unordered, changeable and indexed. No duplicate members.\n"
   ]
  },
  {
   "cell_type": "markdown",
   "metadata": {},
   "source": [
    "__Lists__"
   ]
  },
  {
   "cell_type": "code",
   "execution_count": 12,
   "metadata": {},
   "outputs": [
    {
     "name": "stdout",
     "output_type": "stream",
     "text": [
      "['apple', 'banana', 'cherry']\n",
      "['apple', 'blackcurrant', 'cherry']\n",
      "['apple', 'blackcurrant', 'cherry', 'damson']\n",
      "['blackcurrant', 'cherry', 'damson']\n"
     ]
    }
   ],
   "source": [
    "thislist = [\"apple\", \"banana\", \"cherry\"]\n",
    "print(thislist)\n",
    "\n",
    "# change the value of the second element of thislist\n",
    "thislist[1] = \"blackcurrant\" \n",
    "print(thislist)\n",
    "\n",
    "# add element\n",
    "thislist.append(\"damson\")\n",
    "print(thislist)\n",
    "\n",
    "# remove element\n",
    "thislist.remove(\"apple\")\n",
    "print(thislist)"
   ]
  },
  {
   "cell_type": "markdown",
   "metadata": {},
   "source": [
    "__Tuples__"
   ]
  },
  {
   "cell_type": "code",
   "execution_count": 14,
   "metadata": {},
   "outputs": [
    {
     "name": "stdout",
     "output_type": "stream",
     "text": [
      "('apple', 'banana', 'cherry')\n",
      "banana\n"
     ]
    }
   ],
   "source": [
    "thistuple = (\"apple\", \"banana\", \"cherry\")\n",
    "print(thistuple)\n",
    "\n",
    "# get element\n",
    "print(thistuple[1])\n",
    "\n",
    "# not possible to change or add new elements ()\n",
    "# thistuple[1] = \"blackcurrant\""
   ]
  },
  {
   "cell_type": "markdown",
   "metadata": {},
   "source": [
    "__Sets__"
   ]
  },
  {
   "cell_type": "code",
   "execution_count": 15,
   "metadata": {},
   "outputs": [
    {
     "name": "stdout",
     "output_type": "stream",
     "text": [
      "{'apple', 'cherry', 'banana'}\n",
      "{'apple', 'cherry', 'passionfruit', 'banana'}\n",
      "{'apple', 'cherry', 'passionfruit'}\n"
     ]
    }
   ],
   "source": [
    "thisset = {\"apple\", \"banana\", \"cherry\"}\n",
    "print(thisset)\n",
    "\n",
    "# add element\n",
    "thisset.add(\"passionfruit\")\n",
    "print(thisset)\n",
    "\n",
    "# remove element\n",
    "thisset.remove(\"banana\")\n",
    "print(thisset)"
   ]
  },
  {
   "cell_type": "markdown",
   "metadata": {},
   "source": [
    "__Dictionaries__"
   ]
  },
  {
   "cell_type": "code",
   "execution_count": 16,
   "metadata": {},
   "outputs": [
    {
     "name": "stdout",
     "output_type": "stream",
     "text": [
      "{'apple': 'green', 'banana': 'yellow', 'cherry': 'red'}\n",
      "green\n",
      "{'apple': 'green', 'banana': 'yellow', 'cherry': 'red', 'damson': 'purple'}\n",
      "{'apple': 'green', 'cherry': 'red', 'damson': 'purple'}\n"
     ]
    }
   ],
   "source": [
    "thisdict = {\n",
    "  \"apple\": \"green\",\n",
    "  \"banana\": \"yellow\",\n",
    "  \"cherry\": \"red\"\n",
    "}\n",
    "print(thisdict)\n",
    "\n",
    "# get element\n",
    "print(thisdict[\"apple\"])\n",
    "\n",
    "# add element\n",
    "thisdict[\"damson\"] = \"purple\"\n",
    "print(thisdict)\n",
    "\n",
    "# remove element\n",
    "del(thisdict[\"banana\"])\n",
    "print(thisdict)"
   ]
  },
  {
   "cell_type": "markdown",
   "metadata": {},
   "source": [
    "Extract all keys and values from a dictionary using `.keys()` and `.values()`, respectivetly."
   ]
  },
  {
   "cell_type": "code",
   "execution_count": 14,
   "metadata": {},
   "outputs": [
    {
     "name": "stdout",
     "output_type": "stream",
     "text": [
      "dict_keys(['apple', 'banana', 'cherry'])\n",
      "dict_values(['green', 'yellow', 'red'])\n"
     ]
    }
   ],
   "source": [
    "thisdict = dict(apple=\"green\", banana=\"yellow\", cherry=\"red\")\n",
    "print(thisdict.keys())\n",
    "print(thisdict.values())"
   ]
  },
  {
   "cell_type": "markdown",
   "metadata": {},
   "source": [
    "# 5. Flow Control with Loops and If Statements"
   ]
  },
  {
   "cell_type": "markdown",
   "metadata": {},
   "source": [
    "A __for__ loop is used for iterating over a sequence (that is either a list, a tuple or a string)."
   ]
  },
  {
   "cell_type": "code",
   "execution_count": 22,
   "metadata": {},
   "outputs": [
    {
     "name": "stdout",
     "output_type": "stream",
     "text": [
      "[0, 0, 0]\n"
     ]
    }
   ],
   "source": [
    "elements = ['bread','butter','cheese']\n",
    "for el in range(3):\n",
    "    elements[el] = 0\n",
    "print(elements)"
   ]
  },
  {
   "cell_type": "code",
   "execution_count": 18,
   "metadata": {},
   "outputs": [
    {
     "ename": "NameError",
     "evalue": "name 'elements' is not defined",
     "output_type": "error",
     "traceback": [
      "\u001b[0;31m-------------------------------------\u001b[0m",
      "\u001b[0;31mNameError\u001b[0mTraceback (most recent call last)",
      "\u001b[0;32m<ipython-input-18-2f1e1c3e809e>\u001b[0m in \u001b[0;36m<module>\u001b[0;34m\u001b[0m\n\u001b[1;32m      1\u001b[0m \u001b[0;32mfor\u001b[0m \u001b[0mel\u001b[0m \u001b[0;32min\u001b[0m \u001b[0mrange\u001b[0m\u001b[0;34m(\u001b[0m\u001b[0;36m3\u001b[0m\u001b[0;34m)\u001b[0m\u001b[0;34m:\u001b[0m\u001b[0;34m\u001b[0m\u001b[0;34m\u001b[0m\u001b[0m\n\u001b[0;32m----> 2\u001b[0;31m     \u001b[0melements\u001b[0m\u001b[0;34m[\u001b[0m\u001b[0mel\u001b[0m\u001b[0;34m]\u001b[0m \u001b[0;34m=\u001b[0m \u001b[0;36m0\u001b[0m\u001b[0;34m\u001b[0m\u001b[0;34m\u001b[0m\u001b[0m\n\u001b[0m",
      "\u001b[0;31mNameError\u001b[0m: name 'elements' is not defined"
     ]
    }
   ],
   "source": [
    "for el in range(3):\n",
    "    elements[el] = 0"
   ]
  },
  {
   "cell_type": "markdown",
   "metadata": {},
   "source": [
    "With the __while__ loop we can execute a sequence of statements as long as a condition is true."
   ]
  },
  {
   "cell_type": "code",
   "execution_count": 17,
   "metadata": {},
   "outputs": [
    {
     "name": "stdout",
     "output_type": "stream",
     "text": [
      "1\n",
      "2\n",
      "3\n",
      "4\n"
     ]
    }
   ],
   "source": [
    "i = 1\n",
    "while i < 5:\n",
    "    print(i)\n",
    "    i += 1"
   ]
  },
  {
   "cell_type": "markdown",
   "metadata": {},
   "source": [
    "the __if__ statement allow us to to make a comparison between variables and return a desired output."
   ]
  },
  {
   "cell_type": "code",
   "execution_count": 23,
   "metadata": {},
   "outputs": [
    {
     "name": "stdout",
     "output_type": "stream",
     "text": [
      "b is greater than a\n"
     ]
    }
   ],
   "source": [
    "a = 3\n",
    "b = 5\n",
    "if b > a: \n",
    "    print(\"b is greater than a\")\n",
    "elif b < a:\n",
    "    print(\"a is greater than b\")\n",
    "else:\n",
    "    print(\"b is equal to a\")"
   ]
  },
  {
   "cell_type": "markdown",
   "metadata": {},
   "source": [
    "# 6. Functions"
   ]
  },
  {
   "cell_type": "markdown",
   "metadata": {},
   "source": [
    "The function bellow finds the position of a target value in a list, if target value is not find it returns -1"
   ]
  },
  {
   "cell_type": "code",
   "execution_count": 25,
   "metadata": {},
   "outputs": [],
   "source": [
    "def find_position(to_search, target):\n",
    "    for i, value in enumerate(to_search):\n",
    "        if value == target:\n",
    "            return i\n",
    "    return -1"
   ]
  },
  {
   "cell_type": "code",
   "execution_count": 26,
   "metadata": {},
   "outputs": [
    {
     "name": "stdout",
     "output_type": "stream",
     "text": [
      "1\n",
      "-1\n"
     ]
    }
   ],
   "source": [
    "a = ['a','b','c']\n",
    "print(find_position(a, 'b'))\n",
    "print(find_position(a, 'd'))"
   ]
  },
  {
   "cell_type": "markdown",
   "metadata": {},
   "source": [
    "# 7. Ipython"
   ]
  },
  {
   "cell_type": "markdown",
   "metadata": {},
   "source": [
    "Ipython  <b>?</b> Introduction and overview of IPython’s features"
   ]
  },
  {
   "cell_type": "code",
   "execution_count": 21,
   "metadata": {},
   "outputs": [],
   "source": [
    "?"
   ]
  },
  {
   "cell_type": "markdown",
   "metadata": {},
   "source": [
    "`object?` returns details about ‘object’ including docstrings, function definition lines (for call arguments) and constructor details for classes. `object??` returns extra details."
   ]
  },
  {
   "cell_type": "code",
   "execution_count": 22,
   "metadata": {},
   "outputs": [],
   "source": [
    "print?"
   ]
  },
  {
   "cell_type": "code",
   "execution_count": 23,
   "metadata": {},
   "outputs": [],
   "source": [
    "print??"
   ]
  },
  {
   "cell_type": "markdown",
   "metadata": {},
   "source": [
    "<b>!command</b> runs a System shell Command. "
   ]
  },
  {
   "cell_type": "code",
   "execution_count": 24,
   "metadata": {},
   "outputs": [
    {
     "name": "stdout",
     "output_type": "stream",
     "text": [
      "'Lab 1 - Python language.ipynb'\r\n"
     ]
    }
   ],
   "source": [
    "# list all files in current directory\n",
    "!ls"
   ]
  },
  {
   "cell_type": "code",
   "execution_count": 25,
   "metadata": {},
   "outputs": [
    {
     "name": "stdout",
     "output_type": "stream",
     "text": [
      "/home/duarte/Documents/AAI/nova-adv-inst/Labs/P1\r\n"
     ]
    }
   ],
   "source": [
    "!pwd"
   ]
  },
  {
   "cell_type": "code",
   "execution_count": 26,
   "metadata": {},
   "outputs": [],
   "source": [
    "!mkdir \"teste\""
   ]
  },
  {
   "cell_type": "code",
   "execution_count": 27,
   "metadata": {},
   "outputs": [
    {
     "name": "stdout",
     "output_type": "stream",
     "text": [
      "'Lab 1 - Python language.ipynb'   teste\r\n"
     ]
    }
   ],
   "source": [
    "!ls"
   ]
  },
  {
   "cell_type": "code",
   "execution_count": 28,
   "metadata": {},
   "outputs": [],
   "source": [
    "!rm -r teste"
   ]
  },
  {
   "cell_type": "markdown",
   "metadata": {},
   "source": [
    "# 8. Exercises"
   ]
  },
  {
   "cell_type": "markdown",
   "metadata": {},
   "source": [
    "## Exercises using ipython\n",
    "\n",
    "__Exercise 1__: Hello world in the console.\n",
    ">print(“Hello World”)\n",
    "\n",
    "__Exercise 2__: ipython as my calculator\n",
    "> 4 + 5 * 5 + 2 ** 4\n",
    "\n",
    "> sqrt(3 ** 2+ 4 ** 2)\n",
    "\n",
    "__Exercise 3__: Set a bookmark for your testing code directory\n",
    "> bookmark mydir\n",
    "\n",
    "Measure the time (timeit) of sorting 1000 random integers or\n",
    "random floats. (`random.randint` and `random.uniform`)"
   ]
  },
  {
   "cell_type": "markdown",
   "metadata": {},
   "source": [
    "## Exercises using the notebook"
   ]
  },
  {
   "cell_type": "code",
   "execution_count": 34,
   "metadata": {},
   "outputs": [],
   "source": [
    "import numpy as np"
   ]
  },
  {
   "cell_type": "markdown",
   "metadata": {},
   "source": [
    "__Exercise 4__: Print the times tables"
   ]
  },
  {
   "cell_type": "code",
   "execution_count": 33,
   "metadata": {},
   "outputs": [
    {
     "name": "stdout",
     "output_type": "stream",
     "text": [
      "9 X 0 = 0\n",
      "9 X 1 = 9\n",
      "9 X 2 = 18\n",
      "9 X 3 = 27\n",
      "9 X 4 = 36\n",
      "9 X 5 = 45\n",
      "9 X 6 = 54\n",
      "9 X 7 = 63\n",
      "9 X 8 = 72\n",
      "9 X 9 = 81\n",
      "9 X 10 = 90\n"
     ]
    }
   ],
   "source": [
    "num = 9\n",
    "for i in range(11):\n",
    "    print(num, \"X\", i, \"=\", num*i)"
   ]
  },
  {
   "cell_type": "markdown",
   "metadata": {},
   "source": [
    "__Exercise 5__: Create a list with first 10 powers of 2.\n",
    "\n"
   ]
  },
  {
   "cell_type": "code",
   "execution_count": 37,
   "metadata": {},
   "outputs": [
    {
     "name": "stdout",
     "output_type": "stream",
     "text": [
      "[1, 2, 4, 8, 16, 32, 64, 128, 256, 512, 1024]\n"
     ]
    }
   ],
   "source": [
    "l = []\n",
    "for i in range(11):\n",
    "    l += [2**i]\n",
    "print(l)"
   ]
  },
  {
   "cell_type": "code",
   "execution_count": 40,
   "metadata": {},
   "outputs": [
    {
     "name": "stdout",
     "output_type": "stream",
     "text": [
      "[1, 3, 9, 27, 81, 243, 729, 2187, 6561, 19683, 59049]\n"
     ]
    }
   ],
   "source": [
    "l = [3**i for i in range(11)]\n",
    "print(l)"
   ]
  },
  {
   "cell_type": "markdown",
   "metadata": {},
   "source": [
    "__Exercise 6__: Test if a string is a palindrome: radar, civic\n",
    "\n"
   ]
  },
  {
   "cell_type": "code",
   "execution_count": 50,
   "metadata": {},
   "outputs": [
    {
     "name": "stdout",
     "output_type": "stream",
     "text": [
      "True\n"
     ]
    }
   ],
   "source": [
    "test_str = \"radar\"\n",
    "print(test_str == test_str[::-1])"
   ]
  },
  {
   "cell_type": "markdown",
   "metadata": {},
   "source": [
    "__Exercise 7__: Use a list comprehension to create a list of uniform distribution\n",
    "(use `import random`, and `random.uniform(0,10)` )"
   ]
  },
  {
   "cell_type": "code",
   "execution_count": 61,
   "metadata": {},
   "outputs": [
    {
     "data": {
      "text/plain": [
       "(array([1000.,  959., 1015., 1017., 1038., 1004., 1045.,  958.,  961.,\n",
       "        1003.]),\n",
       " array([2.04137319e-05, 1.00001751e+00, 2.00001461e+00, 3.00001170e+00,\n",
       "        4.00000880e+00, 5.00000589e+00, 6.00000299e+00, 7.00000009e+00,\n",
       "        7.99999718e+00, 8.99999428e+00, 9.99999137e+00]),\n",
       " <BarContainer object of 10 artists>)"
      ]
     },
     "execution_count": 61,
     "metadata": {},
     "output_type": "execute_result"
    },
    {
     "data": {
      "image/png": "[encoded data removed]",
      "text/plain": [
       "<Figure size 432x288 with 1 Axes>"
      ]
     },
     "metadata": {
      "needs_background": "light"
     },
     "output_type": "display_data"
    }
   ],
   "source": [
    "%matplotlib inline\n",
    "import random\n",
    "\n",
    "l = [random.uniform(0, 10) for i in range(10000)]\n",
    "\n",
    "# print(l)\n",
    "import matplotlib.pyplot as plt\n",
    "plt.hist(l)\n"
   ]
  },
  {
   "cell_type": "markdown",
   "metadata": {},
   "source": [
    "## Exercises using spyder"
   ]
  },
  {
   "cell_type": "markdown",
   "metadata": {},
   "source": [
    "__Exercise 8__: Implement the factorial function"
   ]
  },
  {
   "cell_type": "markdown",
   "metadata": {},
   "source": [
    "__Exercise 9__: Finding the maximum value in a list.\n",
    "Show an example on the operating in the following list `[1,5,4,3,-1]`.\n",
    "\n",
    "Hint use a memory initialized with the first element of the list."
   ]
  },
  {
   "cell_type": "markdown",
   "metadata": {},
   "source": [
    "__Exercise 10__: Count numbers in the [EMG file](https://github.com/hgamboa/novainstrumentation/blob/master/novainstrumentation/data/emg.txt)\n",
    "\n"
   ]
  },
  {
   "cell_type": "markdown",
   "metadata": {},
   "source": [
    "__Exercise 11__: Find the most used word in Lusiadas [pg3333.txt](https://github.com/hgamboa/novainstrumentation/blob/master/novainstrumentation/sandbox/pg3333.txt)."
   ]
  }
 ],
 "metadata": {
  "kernelspec": {
   "display_name": "Python 3",
   "language": "python",
   "name": "python3"
  },
  "language_info": {
   "codemirror_mode": {
    "name": "ipython",
    "version": 3
   },
   "file_extension": ".py",
   "mimetype": "text/x-python",
   "name": "python",
   "nbconvert_exporter": "python",
   "pygments_lexer": "ipython3",
   "version": "3.8.5"
  }
 },
 "nbformat": 4,
 "nbformat_minor": 2
}
