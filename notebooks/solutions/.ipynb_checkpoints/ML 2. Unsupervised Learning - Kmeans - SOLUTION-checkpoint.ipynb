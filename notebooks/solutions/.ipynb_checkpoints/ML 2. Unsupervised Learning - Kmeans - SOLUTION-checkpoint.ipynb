{
 "cells": [
  {
   "cell_type": "markdown",
   "metadata": {},
   "source": [
    "# ML 2. Unsupervised learning - Kmeans"
   ]
  },
  {
   "cell_type": "code",
   "execution_count": 2,
   "metadata": {},
   "outputs": [
    {
     "name": "stdout",
     "output_type": "stream",
     "text": [
      "Populating the interactive namespace from numpy and matplotlib\n"
     ]
    }
   ],
   "source": [
    "%pylab inline\n",
    "import novainstrumentation as ni\n",
    "import seaborn"
   ]
  },
  {
   "cell_type": "markdown",
   "metadata": {},
   "source": [
    "## Step 1\n",
    "Generate data in 3 clusters using _sklearn.datasets.make_blobs_. Generate 15 samples in ${\\rm I\\!R^2}$,  three clusters with std 1. \n",
    "\n",
    "note: use the random seed = 1"
   ]
  },
  {
   "cell_type": "code",
   "execution_count": 3,
   "metadata": {},
   "outputs": [],
   "source": [
    "from sklearn.datasets import make_blobs\n",
    "seed(1)\n",
    "\n",
    "n_centers = 3\n",
    "\n",
    "X,Y=make_blobs(n_samples=15, n_features=2, centers=n_centers, cluster_std=1)"
   ]
  },
  {
   "cell_type": "markdown",
   "metadata": {},
   "source": [
    "## Step 2\n",
    "Plot the base data each class with a different color"
   ]
  },
  {
   "cell_type": "code",
   "execution_count": 4,
   "metadata": {},
   "outputs": [
    {
     "data": {
      "image/png": "[encoded data removed]",
      "text/plain": [
       "<matplotlib.figure.Figure at 0x115b3f210>"
      ]
     },
     "metadata": {},
     "output_type": "display_data"
    }
   ],
   "source": [
    "def plot_clusters(X,Y):\n",
    "\n",
    "    figure(figsize=(3,3))\n",
    "    for i in [0,1,2]:\n",
    "        ix = (Y==i)\n",
    "        plot(X[ix,0],X[ix,1],'.',ms=15)\n",
    "\n",
    "plot_clusters(X,Y)"
   ]
  },
  {
   "cell_type": "markdown",
   "metadata": {},
   "source": [
    "# Step 3\n",
    "Randomly select the centroids as the first samples of the data set."
   ]
  },
  {
   "cell_type": "code",
   "execution_count": 5,
   "metadata": {},
   "outputs": [],
   "source": [
    "Centroids = X[:n_centers,:]"
   ]
  },
  {
   "cell_type": "markdown",
   "metadata": {},
   "source": [
    "# Step 4\n",
    "Create a function to compute the distance matrix to each centroid (dim: num of samples vs num of centrioids), using the eucledean distance (scipy.spatial.distance.euclidean)"
   ]
  },
  {
   "cell_type": "code",
   "execution_count": 6,
   "metadata": {},
   "outputs": [
    {
     "data": {
      "text/plain": [
       "array([[  0.        ,   1.68521836,   1.61816677],\n",
       "       [  1.68521836,   0.        ,   1.01936959],\n",
       "       [  1.61816677,   1.01936959,   0.        ],\n",
       "       [  5.665243  ,   3.98046081,   4.43336658],\n",
       "       [ 12.67542196,  12.25961461,  13.26159421],\n",
       "       [  1.05431551,   1.4732775 ,   0.78360581],\n",
       "       [ 12.18855521,  11.72109557,  12.72801936],\n",
       "       [  1.18622243,   1.16981063,   1.8295073 ],\n",
       "       [ 13.95921794,  13.49067763,  14.49890424],\n",
       "       [ 12.80357115,  12.10429631,  13.12361611],\n",
       "       [  6.65259651,   4.99610792,   5.6269078 ],\n",
       "       [  4.64823179,   2.9912377 ,   3.66790654],\n",
       "       [ 13.86045459,  13.21647714,  14.23501875],\n",
       "       [  7.79025971,   6.11199106,   6.64309641],\n",
       "       [  6.12528969,   4.44056616,   4.93130781]])"
      ]
     },
     "execution_count": 6,
     "metadata": {},
     "output_type": "execute_result"
    }
   ],
   "source": [
    "from scipy.spatial.distance import euclidean\n",
    "\n",
    "def dist(C,X):\n",
    "    \n",
    "    D = zeros((X.shape[0],C.shape[0]))\n",
    "\n",
    "    for c in range(n_centers):\n",
    "        for s in range(X.shape[0]):\n",
    "            D[s,c] = euclidean(X[s],Centroids[c])\n",
    "    return D\n",
    "\n",
    "D = dist(Centroids,X)\n",
    "\n",
    "D\n",
    "\n"
   ]
  },
  {
   "cell_type": "markdown",
   "metadata": {},
   "source": [
    "# Step 5 \n",
    "Iterate on selecting\n",
    "\n",
    "1. Find the nearest centroid for each sample\n",
    "2. Compute the new centroids\n",
    "3. Assing new centroids for each sample.\n",
    "4. if 1 and 3 are equal stop."
   ]
  },
  {
   "cell_type": "code",
   "execution_count": 7,
   "metadata": {},
   "outputs": [
    {
     "name": "stdout",
     "output_type": "stream",
     "text": [
      "[0 0 0 2 1 0 1 0 1 1 2 2 1 2 2]\n",
      "[2 2 2 1 0 2 0 2 0 0 1 1 0 1 1]\n"
     ]
    },
    {
     "data": {
      "image/png": "[encoded data removed]",
      "text/plain": [
       "<matplotlib.figure.Figure at 0x11883f190>"
      ]
     },
     "metadata": {},
     "output_type": "display_data"
    },
    {
     "data": {
      "image/png": "[encoded data removed]",
      "text/plain": [
       "<matplotlib.figure.Figure at 0x118af3910>"
      ]
     },
     "metadata": {},
     "output_type": "display_data"
    },
    {
     "data": {
      "image/png": "[encoded data removed]",
      "text/plain": [
       "<matplotlib.figure.Figure at 0x118b4a990>"
      ]
     },
     "metadata": {},
     "output_type": "display_data"
    }
   ],
   "source": [
    "Y_est = argmin(D,1)\n",
    "\n",
    "def compute_centroids(X,Y):\n",
    "    C = zeros((3,X.shape[1]))\n",
    "    for i in [0,1,2]:\n",
    "        \n",
    "        C[i,:] = mean(X[Y==i,:],0)\n",
    "    return C\n",
    "        \n",
    "\n",
    "for i in range(4):\n",
    "    Centroids = compute_centroids(X,Y_est)\n",
    "    D = dist(Centroids,X)\n",
    "    Y_old = Y_est\n",
    "    Y_est = argmin(D,1)\n",
    "    plot_clusters(X,Y_est)\n",
    "    if all(Y_est==Y_old):\n",
    "        break\n",
    "\n",
    "print Y_est\n",
    "print Y\n",
    "\n"
   ]
  },
  {
   "cell_type": "markdown",
   "metadata": {},
   "source": [
    "# Step 6\n",
    "Estimate the error with sklearn.metrics.adjusted_rand_score"
   ]
  },
  {
   "cell_type": "code",
   "execution_count": 19,
   "metadata": {},
   "outputs": [
    {
     "name": "stdout",
     "output_type": "stream",
     "text": [
      "1.0\n"
     ]
    }
   ],
   "source": [
    "from sklearn import metrics\n",
    "\n",
    "print metrics.adjusted_rand_score(Y,Y_est)"
   ]
  },
  {
   "cell_type": "code",
   "execution_count": null,
   "metadata": {
    "collapsed": true
   },
   "outputs": [],
   "source": []
  }
 ],
 "metadata": {
  "kernelspec": {
   "display_name": "Python 3",
   "language": "python",
   "name": "python3"
  },
  "language_info": {
   "codemirror_mode": {
    "name": "ipython",
    "version": 3
   },
   "file_extension": ".py",
   "mimetype": "text/x-python",
   "name": "python",
   "nbconvert_exporter": "python",
   "pygments_lexer": "ipython3",
   "version": "3.7.4"
  }
 },
 "nbformat": 4,
 "nbformat_minor": 1
}
