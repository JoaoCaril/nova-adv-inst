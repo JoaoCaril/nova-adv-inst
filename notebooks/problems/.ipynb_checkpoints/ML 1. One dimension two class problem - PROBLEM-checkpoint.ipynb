{
 "cells": [
  {
   "cell_type": "markdown",
   "metadata": {},
   "source": [
    "# ML 1. Two class classification problem"
   ]
  },
  {
   "cell_type": "code",
   "execution_count": 3,
   "metadata": {},
   "outputs": [
    {
     "name": "stdout",
     "output_type": "stream",
     "text": [
      "Populating the interactive namespace from numpy and matplotlib\n"
     ]
    }
   ],
   "source": [
    "%pylab inline\n",
    "import novainstrumentation as ni\n",
    "import seaborn"
   ]
  },
  {
   "cell_type": "markdown",
   "metadata": {},
   "source": [
    "Consider a classification problem with two classes: \n",
    "\n",
    "C1 with $$\\mu_1 = -1, \\sigma_1 = 1$$   \n",
    "C2 with $$\\mu_2 = 1, \\sigma_2 = 1$$ \n",
    "\n",
    "and assume the classes to be equiprobable: $$P(w_1) = p(w_2) = 0.5$$\n",
    "\n",
    "Plot the pdf of each function."
   ]
  },
  {
   "cell_type": "markdown",
   "metadata": {},
   "source": [
    "\n",
    "$p(x|w) =\\frac{1}{\\sqrt{2\\sigma^2\\pi}}\\, e^{-\\frac{(x - \\mu)^2}{2 \\sigma^2}}$"
   ]
  },
  {
   "cell_type": "code",
   "execution_count": null,
   "metadata": {},
   "outputs": [],
   "source": [
    "\n"
   ]
  },
  {
   "cell_type": "markdown",
   "metadata": {},
   "source": [
    "Derive the error formula by integrating the discriminative function\n",
    "\n",
    "$$g_i(x) = p(x|w_i)*p(w_i)  $$"
   ]
  },
  {
   "cell_type": "markdown",
   "metadata": {},
   "source": [
    "Compute the error as $P_e = 1 - \\int_{-\\infty}^{\\infty}\\max_i(g_i)$"
   ]
  },
  {
   "cell_type": "code",
   "execution_count": null,
   "metadata": {},
   "outputs": [],
   "source": [
    "\n"
   ]
  },
  {
   "cell_type": "markdown",
   "metadata": {},
   "source": [
    "Calculate the error analiticaly: $ e =  2 \\int_{-\\infty}^0 g_2$\n",
    "\n",
    "$cdf = \\int pdf, cdf = \\frac12\\left[1 + \\operatorname{erf}\\left( \\frac{x-\\mu}{\\sigma\\sqrt{2}}\\right)\\right] p(w) $"
   ]
  },
  {
   "cell_type": "markdown",
   "metadata": {},
   "source": [
    "Estimate the error mesuring the probility of a sample from the distribuition being classifed wrongly"
   ]
  },
  {
   "cell_type": "code",
   "execution_count": null,
   "metadata": {},
   "outputs": [],
   "source": []
  },
  {
   "cell_type": "markdown",
   "metadata": {},
   "source": [
    "Use sklearn to learn and test the classification\n",
    "\n",
    "1. Generate de data"
   ]
  },
  {
   "cell_type": "code",
   "execution_count": null,
   "metadata": {},
   "outputs": [],
   "source": [
    "\n"
   ]
  },
  {
   "cell_type": "code",
   "execution_count": null,
   "metadata": {},
   "outputs": [],
   "source": []
  },
  {
   "cell_type": "markdown",
   "metadata": {},
   "source": [
    "2. Divide the data in test and train sets\n",
    "3. Fit and classify\n",
    "4. Measure the error"
   ]
  },
  {
   "cell_type": "code",
   "execution_count": null,
   "metadata": {},
   "outputs": [],
   "source": []
  },
  {
   "cell_type": "markdown",
   "metadata": {
    "collapsed": true
   },
   "source": [
    "Observe the trained parameters (model.std_)"
   ]
  },
  {
   "cell_type": "code",
   "execution_count": null,
   "metadata": {
    "collapsed": true
   },
   "outputs": [],
   "source": []
  }
 ],
 "metadata": {
  "anaconda-cloud": {},
  "kernelspec": {
   "display_name": "Python 3",
   "language": "python",
   "name": "python3"
  },
  "language_info": {
   "codemirror_mode": {
    "name": "ipython",
    "version": 3
   },
   "file_extension": ".py",
   "mimetype": "text/x-python",
   "name": "python",
   "nbconvert_exporter": "python",
   "pygments_lexer": "ipython3",
   "version": "3.7.4"
  }
 },
 "nbformat": 4,
 "nbformat_minor": 1
}
