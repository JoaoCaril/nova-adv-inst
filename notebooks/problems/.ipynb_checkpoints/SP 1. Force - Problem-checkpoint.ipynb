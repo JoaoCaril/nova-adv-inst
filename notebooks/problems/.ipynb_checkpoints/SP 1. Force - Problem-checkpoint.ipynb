{
 "cells": [
  {
   "cell_type": "markdown",
   "metadata": {},
   "source": [
    "# Example 1 - Extract parameters from a force signal\n",
    "\n",
    "Detect onset and offset of a signal,  the first maximum and maximum variation on production of force."
   ]
  },
  {
   "cell_type": "code",
   "execution_count": 3,
   "metadata": {},
   "outputs": [
    {
     "name": "stdout",
     "output_type": "stream",
     "text": [
      "Populating the interactive namespace from numpy and matplotlib\n"
     ]
    }
   ],
   "source": [
    "%pylab inline\n",
    "import novainstrumentation as ni\n",
    "import seaborn"
   ]
  },
  {
   "cell_type": "markdown",
   "metadata": {},
   "source": [
    "## 1. Load data and plot "
   ]
  },
  {
   "cell_type": "code",
   "execution_count": 4,
   "metadata": {},
   "outputs": [
    {
     "data": {
      "text/plain": [
       "[<matplotlib.lines.Line2D at 0x109d4fa90>]"
      ]
     },
     "execution_count": 4,
     "metadata": {},
     "output_type": "execute_result"
    },
    {
     "data": {
      "image/png": "[encoded data removed]",
      "text/plain": [
       "<matplotlib.figure.Figure at 0x109bf0510>"
      ]
     },
     "metadata": {},
     "output_type": "display_data"
    }
   ],
   "source": [
    "figure(figsize=(16,3))\n",
    "t,s = loadtxt('data/force.txt')\n",
    "plot(t,s)"
   ]
  },
  {
   "cell_type": "markdown",
   "metadata": {},
   "source": [
    "## 2. Clean and ressample\n",
    "Execute: \n",
    "* a) smooth filter with a window of 100 samples  \n",
    "* b) do ressample both time and signal subsanling a ration of 1:10\n",
    "* c) plot result\n"
   ]
  },
  {
   "cell_type": "code",
   "execution_count": null,
   "metadata": {},
   "outputs": [],
   "source": []
  },
  {
   "cell_type": "markdown",
   "metadata": {},
   "source": [
    "## 3. Extract activation information:\n",
    "\n",
    "* a) On set time - 5% of the full scale above the minimum\n",
    "* b) Off set time \n",
    "* b) Activation time - From onset to offset\n",
    "* c) First maximum delay from onset\n",
    "* d) Max production of force delay\n",
    "\n",
    "Anottate on the graph with vertical lines"
   ]
  },
  {
   "cell_type": "code",
   "execution_count": 6,
   "metadata": {
    "scrolled": true
   },
   "outputs": [
    {
     "name": "stdout",
     "output_type": "stream",
     "text": [
      "Onset: 0.000000 s\n",
      "Offset: 0.000000 s\n",
      "Activation time: 0.000000 s\n",
      "First maximum delay: 0.000000 s\n",
      "Delay to derivate maximum: 0.000000 s\n"
     ]
    },
    {
     "data": {
      "text/plain": [
       "<matplotlib.collections.LineCollection at 0x10a48d310>"
      ]
     },
     "execution_count": 6,
     "metadata": {},
     "output_type": "execute_result"
    },
    {
     "data": {
      "image/png": "[encoded data removed]",
      "text/plain": [
       "<matplotlib.figure.Figure at 0x109cf9450>"
      ]
     },
     "metadata": {},
     "output_type": "display_data"
    }
   ],
   "source": [
    "\n",
    "onset = 0\n",
    "print \"Onset: %f s\" % onset\n",
    "\n",
    "offset = 0\n",
    "print \"Offset: %f s\" % offset\n",
    "\n",
    "act_time = offset-onset\n",
    "print \"Activation time: %f s\" % act_time\n",
    "\n",
    "first_max =  0 # use threshold above 60\n",
    "print \"First maximum delay: %f s\" % (first_max - onset)\n",
    "\n",
    "t_max_diff = 0 # use thresold on the derivative of 0.1\n",
    "print \"Delay to derivate maximum: %f s\" % (t_max_diff - onset)\n",
    "\n",
    "\n",
    "vlines([onset,offset,first_max,t_max_diff], 0, 100)"
   ]
  },
  {
   "cell_type": "code",
   "execution_count": null,
   "metadata": {
    "collapsed": true
   },
   "outputs": [],
   "source": []
  }
 ],
 "metadata": {
  "kernelspec": {
   "display_name": "Python 3",
   "language": "python",
   "name": "python3"
  },
  "language_info": {
   "codemirror_mode": {
    "name": "ipython",
    "version": 3
   },
   "file_extension": ".py",
   "mimetype": "text/x-python",
   "name": "python",
   "nbconvert_exporter": "python",
   "pygments_lexer": "ipython3",
   "version": "3.7.6"
  }
 },
 "nbformat": 4,
 "nbformat_minor": 1
}
